{
 "cells": [
  {
   "cell_type": "code",
   "execution_count": 186,
   "id": "ddc5f235-deb0-4190-acbe-4d97dfc2175e",
   "metadata": {},
   "outputs": [
    {
     "name": "stdout",
     "output_type": "stream",
     "text": [
      "45 expenses between 03/02-03/03\n"
     ]
    }
   ],
   "source": [
    "import re\n",
    "import csv\n",
    "\n",
    "\n",
    "closing_day = \"03\"\n",
    "current_month = \"02\"\n",
    "payment_month = str(int(current_month)+1).zfill(2)\n",
    "\n",
    "filename = 'Fatura-C6.csv'\n",
    "card = 'C6'\n",
    "\n",
    "c6 = {'date': \"Data de Compra\", 'buyer': \"Nome no Cartão\", 'description': \"Descrição\", 'value': \"Valor (em R$)\", 'installments': \"Parcela\", 'singleInstallment': 'Única'}\n",
    "\n",
    "# '5.661,03' -> 5661.03\n",
    "def localeStringToFloat(value):\n",
    "    return float(value.replace('.','').replace(',','.'))\n",
    "\n",
    "def formatInstallments(installments):\n",
    "    separator = \"/\"\n",
    "    return separator.join([num.zfill(2) for num in installments.split(separator)])\n",
    "\n",
    "def formatExpenseDict(date, description, buyer, value, installments):\n",
    "    fullDescription = description if installments == c6[\"singleInstallment\"] else description + \" \" + formatInstallments(installments)\n",
    "    return {'date': date, 'category': \"\",  'buyer': buyer, 'description': fullDescription, 'value': localeStringToFloat(value)}\n",
    "\n",
    "expenses = []\n",
    "# Read expenses into memory from file\n",
    "try:\n",
    "    with open(filename, \"r\") as file:\n",
    "        reader = csv.DictReader(file, delimiter=\";\")\n",
    "        for row in reader:\n",
    "            expenses.append(\n",
    "                formatExpenseDict(row[c6[\"date\"]],\n",
    "                                  row[c6[\"description\"]],\n",
    "                                  row[c6[\"buyer\"]],\n",
    "                                  row[c6[\"value\"]],\n",
    "                                  row[c6[\"installments\"]]\n",
    "                                 )\n",
    "            )\n",
    "except FileNotFoundError:\n",
    "    sys.exit(f\"File {filename} not found, please use an existing file.\")\n",
    "\n",
    "print(\"{0} expenses between {1}-{2}\".format(len(expenses), closing_day+'/'+current_month, closing_day+'/'+payment_month))"
   ]
  },
  {
   "cell_type": "code",
   "execution_count": 187,
   "id": "f8093ce2-15c7-4f28-af53-43d29fa0c4b1",
   "metadata": {},
   "outputs": [],
   "source": [
    "from datetime import date\n",
    "\n",
    "# REMOVING EXPENSES BEFORE SELECTED DATE\n",
    "# Used for mid-month expense tracking\n",
    "IGNORE_EXPENSES_BEFORE_DATE = '12/02/2023'\n",
    "\n",
    "def transform_date(str_date = '31/12/2021'):\n",
    "    day, month, year = str_date.rsplit('/')\n",
    "    return date(int(year), int(month), int(day))\n",
    "\n",
    "last_date = transform_date(IGNORE_EXPENSES_BEFORE_DATE)\n",
    "\n",
    "for idx, expense in enumerate(expenses):\n",
    "    indexes_to_remove = []\n",
    "\n",
    "    current_date = transform_date(expense['date'])\n",
    "    if (current_date < last_date):\n",
    "        indexes_to_remove.append(idx)\n",
    "    \n",
    "    # the removal operation had to be separated because it wasn't fully functional inside the loop above\n",
    "    # it is reversed in order to not mess up with the indexes\n",
    "    for jdx in reversed(indexes_to_remove):\n",
    "        expenses.pop(jdx)"
   ]
  },
  {
   "cell_type": "code",
   "execution_count": 189,
   "id": "bc7ad4f9-c353-484c-a90d-f98932c08b17",
   "metadata": {},
   "outputs": [
    {
     "name": "stdout",
     "output_type": "stream",
     "text": [
      "REFUNDED PAYPAL       DELL 274.87\n",
      "REFUNDED Estorno Tarifa 85.0\n"
     ]
    },
    {
     "data": {
      "text/plain": [
       "[]"
      ]
     },
     "execution_count": 189,
     "metadata": {},
     "output_type": "execute_result"
    }
   ],
   "source": [
    "# CLEAR REFUNDS DISGUISED AS EXPENSES\n",
    "for expense in expenses:\n",
    "    if (expense['value'] < 0):\n",
    "        refund = expense\n",
    "        # searches refunded expense retroactively\n",
    "        for jdx in reversed(range(len(expenses))):\n",
    "            if (abs(refund['value']) == expenses[jdx]['value']):\n",
    "                refundedExpense = expenses[jdx]\n",
    "                print('REFUNDED', refund['description'], refundedExpense['value'])\n",
    "                expenses.remove(refund)\n",
    "                expenses.remove(refundedExpense)\n",
    "                break\n",
    "\n",
    "# For some reason they are not deleted at once\n",
    "# Run this block until we receive an empty \"AWAITING REFUND\" array\n",
    "[print('AWATING REFUND', expense['description'], expense['value']) for expense in expenses if expense['value'] < 0]"
   ]
  },
  {
   "cell_type": "code",
   "execution_count": 190,
   "id": "d2faa244-659e-4a9f-9ec8-4b54cb01b286",
   "metadata": {},
   "outputs": [
    {
     "name": "stdout",
     "output_type": "stream",
     "text": [
      "+------------+-------+--------+------------------------------+\n",
      "|    Date    | Buyer | Value  |         Description          |\n",
      "+------------+-------+--------+------------------------------+\n",
      "| 14/02/2023 | Vitor | 566.01 |       AMAZON BR 01/10        |\n",
      "| 14/02/2023 | Vitor | 245.82 |   AMAZON MARKETPLACE 01/03   |\n",
      "| 15/02/2023 | Vitor | 330.0  |      REDE ORTOESTETICA       |\n",
      "| 15/02/2023 | Vitor |  90.0  | FLORICULTURA ANGELS FL 01/02 |\n",
      "| 16/02/2023 | Vitor | 147.25 |   AMAZON MARKETPLACE 01/03   |\n",
      "| 16/02/2023 | Vitor | 84.24  |  PP      GORILSHIELD 01/02   |\n",
      "| 16/02/2023 | Vitor | 196.08 |       CARONE GAIVOTAS        |\n",
      "| 17/02/2023 | Vitor | 44.41  |       PADARIA DA PRAIA       |\n",
      "| 17/02/2023 | Vitor |  23.5  |      BLU FOOD PARK LTDA      |\n",
      "| 17/02/2023 | Vitor | 191.9  |         LA CUCHILLA          |\n",
      "| 17/02/2023 | Vitor |  12.0  |    COOKIE IT CAFE VILA VE    |\n",
      "| 18/02/2023 | Vitor | 79.91  |    PAG SHOPPINGVILAVELHA     |\n",
      "| 18/02/2023 | Vitor |  4.0   |    PG COMERCIO DE ALIMENT    |\n",
      "| 18/02/2023 | Vitor | 225.85 |      OTICAS DINIZ 01/06      |\n",
      "| 18/02/2023 | Vitor |  4.0   |         BRASIL PARK          |\n",
      "| 18/02/2023 | Vitor |  1.06  |  SKYPE.COM/GO/BILL      LU   |\n",
      "| 18/02/2023 | Vitor | 19.63  |  SKYPE.COM/GO/BILL      LU   |\n",
      "| 19/02/2023 | Vitor | 466.68 | SMILES FIDEL COMPRADEM 01/03 |\n",
      "| 19/02/2023 | Vitor |  30.0  |         CR COMERCIAL         |\n",
      "| 19/02/2023 | Vitor |  32.0  |         PAG ANDERSON         |\n",
      "| 20/02/2023 | Vitor |  16.0  |     PG  TON MANOEL FERRE     |\n",
      "| 21/02/2023 | Vitor | 18.82  |         CR COMERCIAL         |\n",
      "| 22/02/2023 | Vitor |  32.7  |     RESTAURANTE  GUSSANI     |\n",
      "| 22/02/2023 | Vitor | 43.99  |     IFOOD   IFD YAKISOBA     |\n",
      "| 22/02/2023 | Vitor |  3.0   |    IFOOD   IFD INSTITUTO     |\n",
      "| 23/02/2023 | Vitor | 205.18 |        AMAZON COM BR         |\n",
      "| 24/02/2023 | Vitor | 15.72  |       PADARIA DA PRAIA       |\n",
      "| 25/02/2023 | Vitor |  80.0  |    UBERSMI UBER SMILES C     |\n",
      "| 25/02/2023 | Vitor |  33.3  |    LA VITTA SHOPPING PRA     |\n",
      "| 27/02/2023 | Vitor |  6.93  |      IFOOD        IFOOD      |\n",
      "| 27/02/2023 | Vitor | 21.23  |    IFOOD   SALADA DELIVE     |\n",
      "| 27/02/2023 | Vitor |  3.0   |    IFOOD   IFD INSTITUTO     |\n",
      "| 28/02/2023 | Vitor |  34.5  |       TROPICAL LANCHES       |\n",
      "| 24/02/2023 | Vitor | 200.83 |      CARONE E COMMERCE       |\n",
      "| 25/02/2023 | Vitor | 21.99  |       TRIBBU FIT FOOD        |\n",
      "+------------+-------+--------+------------------------------+\n"
     ]
    }
   ],
   "source": [
    "# Here we want to see only expenses (not refunds) and after the ignored dates\n",
    "\n",
    "from prettytable import PrettyTable\n",
    "t = PrettyTable(['Date', 'Buyer', 'Value', 'Description'])\n",
    "for expense in expenses:\n",
    "    t.add_row([expense['date'], expense['buyer'], expense['value'], expense['description']])\n",
    "print(t)"
   ]
  },
  {
   "cell_type": "markdown",
   "id": "a3c2c68e-3546-4521-8066-098d5c731ec1",
   "metadata": {},
   "source": [
    "## Convert to CSV, for Notion\n",
    "\n",
    "Now that expenses are parsed, the last step involves:\n",
    "- Translating texts for a more semantic representation\n",
    "- Atributing the remaining csv fields, such as categories and transfers\n",
    "- Then joining the expenses to generate the csv file"
   ]
  },
  {
   "cell_type": "code",
   "execution_count": 191,
   "id": "eb471d0e-687f-47cc-9b1a-a9d3f1d864d8",
   "metadata": {},
   "outputs": [],
   "source": [
    "categories = {\n",
    "    'alimentacao': 'Alimentação',\n",
    "    'bar': 'Bar/Bebida',\n",
    "    'casa': 'Casa',\n",
    "    'delivery': 'Delivery',\n",
    "    'juju': 'Juju',\n",
    "    'lanches': 'Lanches',\n",
    "    'lazer': 'Lazer',\n",
    "    'pessoal': 'Pessoal',\n",
    "    'restaurante': 'Restaurante',\n",
    "    'saude':'Saúde',\n",
    "    'streaming': 'Streaming',\n",
    "    'transporte': 'Transporte',\n",
    "    'viagens': 'Viagens',\n",
    "}\n",
    "\n",
    "translate_dict = {'99*99': {'description': '99 Pay', 'category': categories['casa']},\n",
    "                'vivo': {'description': 'Vivo', 'category': categories['pessoal']},\n",
    "                'tbra': {'description': 'Vivo', 'category': categories['pessoal']},\n",
    "                'uber': {'description': 'Uber', 'category': categories['transporte']},\n",
    "                'posto ilha': {'description': 'Gasolina', 'category': categories['transporte']},\n",
    "                'shellbox': {'description': 'Gasolina ShellBox', 'category': categories['transporte']},\n",
    "                'esfiha': {'description': 'Esfiha', 'category': categories['lanches']},\n",
    "                'bakery': {'description': 'Padaria', 'category': categories['alimentacao']},\n",
    "                'cr comercial': {'description': 'Padaria Manos', 'category': categories['alimentacao']},\n",
    "                'pastel': {'description': 'Pastel', 'category': categories['lanches']},\n",
    "                'ifood': {'description': 'Ifood', 'category': categories['delivery']},\n",
    "                'carone': {'description': 'Supermercado Carone', 'category': categories['alimentacao']},\n",
    "                'extrabom': {'description': 'Supermercado Extrabom', 'category': categories['alimentacao']},\n",
    "                'supermercado-ct im': {'description': 'Supermercado', 'category': categories['alimentacao']},\n",
    "                'embutidos lo': {'description': 'Queijo Feira', 'category': categories['alimentacao']},\n",
    "                '40 sab': {'description': 'Sorvete 40 Sab', 'category': categories['lanches']},\n",
    "                'clubew': {'description': 'Wine', 'category': categories['bar']},\n",
    "                'spotify': {'description': 'Spotify', 'category': categories['streaming']},\n",
    "                'farma': {'description': 'Farmácia', 'category': categories['saude']},\n",
    "                'drogaria': {'description': 'Farmácia', 'category': categories['saude']},\n",
    "                'petz': {'description': 'Juju', 'category': categories['juju']},\n",
    "                'wendel fialh': {'description': 'Material Construção', 'category': categories['casa']},\n",
    "                'rnfastfood': {'description': 'Ifood', 'category': categories['lanches']},\n",
    "                'rnfastfo': {'description': 'Churrasquinho Praça', 'category': categories['lanches']},\n",
    "                'tribbu': {'description': 'Açaí Tribbu', 'category': categories['lanches']},\n",
    "                'beertr': {'description': 'Rota Beer', 'category': categories['bar']},\n",
    "                'gussani': {'description': 'Gussani', 'category': categories['restaurante']},\n",
    "                 }"
   ]
  },
  {
   "cell_type": "code",
   "execution_count": 192,
   "id": "e22944fd-5081-483d-96c4-6ee72dcd4292",
   "metadata": {},
   "outputs": [],
   "source": [
    "def get_translate_item(item_text):\n",
    "    not_found_item = {'description': item_text, 'category': ''}\n",
    "    dict_item = [value for key, value in translate_dict.items() if key in item_text.lower()]\n",
    "    \n",
    "    return dict_item[0] if len(dict_item) else not_found_item\n",
    "\n",
    "def get_pay_date(date):\n",
    "    return transform_date(date).strftime(\"%m/%d/%Y\")"
   ]
  },
  {
   "cell_type": "code",
   "execution_count": 193,
   "id": "eec06814-7431-4061-8cda-92cf1b8aa220",
   "metadata": {},
   "outputs": [],
   "source": [
    "header = ['Mes', 'Pagamento', 'Item', 'Categoria', 'Quem pagou', 'Valor', 'Quem transfere?', 'Cartão']\n",
    "data = []\n",
    "\n",
    "for idx,expense in enumerate(expenses):\n",
    "    pay_date = get_pay_date(expense['date'])\n",
    "    \n",
    "    translated_item = get_translate_item(expense['description'])\n",
    "    description = translated_item['description']\n",
    "    category = translated_item['category']\n",
    "    \n",
    "    buyer = expense['buyer']\n",
    "    value = expense['value']\n",
    "    who_transfers = ''\n",
    "        \n",
    "    expense_row = [current_month, pay_date, description, category, buyer, value, who_transfers, card]\n",
    "    data.append(expense_row)"
   ]
  },
  {
   "cell_type": "code",
   "execution_count": 194,
   "id": "641ca4db-4b11-4aab-9afa-e1cd1a1bdf41",
   "metadata": {},
   "outputs": [],
   "source": [
    "import csv\n",
    "\n",
    "with open('expenses-c6.csv', 'w', encoding='UTF8', newline='') as f:\n",
    "    writer = csv.writer(f)\n",
    "\n",
    "    # write the header\n",
    "    writer.writerow(header)\n",
    "\n",
    "    # write multiple rows\n",
    "    writer.writerows(data)"
   ]
  },
  {
   "cell_type": "code",
   "execution_count": null,
   "id": "5c9f9bc3-6269-4473-934b-37abf7fc1e25",
   "metadata": {},
   "outputs": [],
   "source": []
  }
 ],
 "metadata": {
  "kernelspec": {
   "display_name": "Python 3 (ipykernel)",
   "language": "python",
   "name": "python3"
  },
  "language_info": {
   "codemirror_mode": {
    "name": "ipython",
    "version": 3
   },
   "file_extension": ".py",
   "mimetype": "text/x-python",
   "name": "python",
   "nbconvert_exporter": "python",
   "pygments_lexer": "ipython3",
   "version": "3.9.12"
  }
 },
 "nbformat": 4,
 "nbformat_minor": 5
}
