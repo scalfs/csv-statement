{
 "cells": [
  {
   "cell_type": "code",
   "execution_count": 41,
   "id": "2277ad84-132b-4514-bcaa-4cdf1ff04968",
   "metadata": {},
   "outputs": [
    {
     "name": "stdout",
     "output_type": "stream",
     "text": [
      "The number of worksheets is 1\n",
      "Worksheet name(s): ['Lançamentos']\n",
      "Lançamentos 98 4\n"
     ]
    }
   ],
   "source": [
    "import re\n",
    "import xlrd\n",
    "\n",
    "STATEMENT_FILE = 'Fatura-Excel.xls'\n",
    "\n",
    "book = xlrd.open_workbook(STATEMENT_FILE)\n",
    "\n",
    "print(\"The number of worksheets is {0}\".format(book.nsheets))\n",
    "print(\"Worksheet name(s): {0}\".format(book.sheet_names()))\n",
    "sh = book.sheet_by_index(0)\n",
    "print(\"{0} {1} {2}\".format(sh.name, sh.nrows, sh.ncols))\n",
    "# for rx in range(sh.nrows):\n",
    "#     print(sh.row(rx))"
   ]
  },
  {
   "cell_type": "code",
   "execution_count": 42,
   "id": "a1bdc669-c7d5-4fb6-9635-c83e335e737e",
   "metadata": {},
   "outputs": [],
   "source": [
    "# Defined Cell types\n",
    "XL_CELL_EMPTY = 0\n",
    "XL_CELL_TEXT = 1\n",
    "XL_CELL_NUMBER = 2\n",
    "\n",
    "# Column info location\n",
    "DATE_COLUMN = 0\n",
    "TEXT_COLUMN = 1\n",
    "VALUE_COLUMN = 3\n",
    "\n",
    "# Regex for identifying date dd/mm/yyyy\n",
    "date_regex = re.compile(r'^([0-2][0-9]|(3)[0-1])(\\/)(((0)[0-9])|((1)[0-2]))(\\/)\\d{4}$')"
   ]
  },
  {
   "cell_type": "code",
   "execution_count": 50,
   "id": "c94d6c2c-3499-4a53-9593-6ad8d4c5621c",
   "metadata": {},
   "outputs": [],
   "source": [
    "people = ['VITOR HENRIQUE DE MORAES E', 'LARA JEVEAUX ALVES']\n",
    "\n",
    "expenses = {key: list([]) for key in people}\n",
    "\n",
    "# learning moment:\n",
    "# expenses = dict.fromkeys(people, [])\n",
    "# when supplying a mutable object as default value, a deep copy is made. Therefore, appending values\n",
    "# in the original list will take places in all the values of keys. In this case they were duplicated \n",
    "\n",
    "def formatExpenseDict(date, text, value):\n",
    "    return {'date': date, 'text': text, 'value': value} \n",
    "\n",
    "# Scan all rows and group expenses by person\n",
    "current_person = ''\n",
    "for rx in range(sh.nrows):\n",
    "    first_cell = sh.cell_value(rowx=rx, colx=0)\n",
    "    if any(person in first_cell for person in people):\n",
    "        current_person = first_cell.rsplit(' -')[0]\n",
    "        continue;\n",
    "    \n",
    "    if (current_person == ''):\n",
    "        continue;\n",
    "    \n",
    "    first_cell_type = sh.cell_type(rowx=rx, colx=DATE_COLUMN)\n",
    "    if (first_cell_type == XL_CELL_TEXT and date_regex.search(first_cell) != None):\n",
    "        # group expenses when row is valid\n",
    "        date_cell = first_cell\n",
    "        text_cell = sh.cell_value(rowx=rx, colx=TEXT_COLUMN)\n",
    "        value_cell = sh.cell_value(rowx=rx, colx=VALUE_COLUMN)\n",
    "        \n",
    "        expense = formatExpenseDict(date_cell, text_cell, value_cell)\n",
    "        expenses[current_person].append(expense)\n",
    "        # print(current_person, expense)"
   ]
  },
  {
   "cell_type": "code",
   "execution_count": 31,
   "id": "f8093ce2-15c7-4f28-af53-43d29fa0c4b1",
   "metadata": {},
   "outputs": [],
   "source": [
    "from datetime import date\n",
    "\n",
    "# REMOVING EXPENSES BEFORE SELECTED DATE\n",
    "\n",
    "IGNORE_EXPENSES_BEFORE_DATE = '16/04/2022'\n",
    "\n",
    "def transform_date(str_date = '31/12/2021'):\n",
    "    day, month, year = str_date.rsplit('/')\n",
    "    return date(int(year), int(month), int(day))\n",
    "\n",
    "last_date = transform_date(IGNORE_EXPENSES_BEFORE_DATE)\n",
    "\n",
    "for person, expenses_list in expenses.items():\n",
    "    indexes_to_remove = []\n",
    "    for idx, expense in enumerate(expenses_list):\n",
    "        current_date = transform_date(expense['date'])\n",
    "        if (current_date < last_date):\n",
    "            indexes_to_remove.append(idx)\n",
    "    \n",
    "    # the removal operation had to be separated because it wasn't fully functional inside the loop above\n",
    "    # it is reversed in order to not mess up with the indexes\n",
    "    for jdx in reversed(indexes_to_remove):\n",
    "        expenses[person].pop(jdx)"
   ]
  },
  {
   "cell_type": "code",
   "execution_count": 53,
   "id": "e64dd2cd-ece5-42c4-8a40-e76e80f89956",
   "metadata": {},
   "outputs": [],
   "source": [
    "# CLEAR REFUNDS DISGUISED AS EXPENSES\n",
    "for person, expenses_list in expenses.items():\n",
    "    for idx, expense in enumerate(expenses_list):\n",
    "         if (expense['value'] < 0):\n",
    "            refund = expense\n",
    "            # searches refunded expense retroactively, expeting it to be near and above\n",
    "            for jdx in reversed(range(idx)):\n",
    "                if (abs(expense['value']) == abs(expenses_list[jdx]['value'])):\n",
    "                    refundedExpense = expenses_list[jdx]\n",
    "                    expenses[person].remove(refund) \n",
    "                    expenses[person].remove(refundedExpense)\n",
    "                    break"
   ]
  },
  {
   "cell_type": "code",
   "execution_count": 56,
   "id": "e3d09812-3f09-4b1f-a9e2-03fde45a8a23",
   "metadata": {},
   "outputs": [],
   "source": [
    "investiments = ['monis']\n",
    "\n",
    "# REMOVE INVESTIMENTS FROM EXPENSES\n",
    "for person, expenses_list in expenses.items():\n",
    "    for idx, expense in enumerate(expenses_list):\n",
    "        if any(investiment in expense['text'].lower() for investiment in investiments):\n",
    "            expenses[person].pop(idx)"
   ]
  },
  {
   "cell_type": "code",
   "execution_count": 57,
   "id": "f696c61a-d6c3-4284-99aa-af746c32194d",
   "metadata": {},
   "outputs": [
    {
     "name": "stdout",
     "output_type": "stream",
     "text": [
      "0 VITOR HENRIQUE DE MORAES E {'date': '29/04/2022', 'text': 'Cr Comercial-ct', 'value': 12.0}\n",
      "1 VITOR HENRIQUE DE MORAES E {'date': '29/04/2022', 'text': 'Restaurante -ct Inario', 'value': 7.5}\n",
      "2 VITOR HENRIQUE DE MORAES E {'date': '30/04/2022', 'text': 'Anuidade Diferenci08/08', 'value': 65.0}\n",
      "3 VITOR HENRIQUE DE MORAES E {'date': '30/04/2022', 'text': 'Pag*mariaauxiliadora', 'value': 65.0}\n",
      "4 VITOR HENRIQUE DE MORAES E {'date': '30/04/2022', 'text': 'Pag*bakeryte-ct', 'value': 14.0}\n",
      "5 VITOR HENRIQUE DE MORAES E {'date': '30/04/2022', 'text': 'Feito Mercad-ct Reli', 'value': 18.98}\n",
      "6 VITOR HENRIQUE DE MORAES E {'date': '03/05/2022', 'text': 'Carone Gaivo-ct', 'value': 158.19}\n",
      "7 VITOR HENRIQUE DE MORAES E {'date': '03/05/2022', 'text': '99*99 Tecnologia Ltda', 'value': 99.9}\n",
      "8 VITOR HENRIQUE DE MORAES E {'date': '03/05/2022', 'text': '99*99 Tecnologia Ltda', 'value': 18.95}\n",
      "9 VITOR HENRIQUE DE MORAES E {'date': '03/05/2022', 'text': '99*99 Tecnologia Ltda', 'value': 169.6}\n",
      "10 VITOR HENRIQUE DE MORAES E {'date': '03/05/2022', 'text': '99*99 Tecnologia Ltda', 'value': 32.25}\n",
      "11 VITOR HENRIQUE DE MORAES E {'date': '04/05/2022', 'text': 'Espetao Itap-ct Tda Me', 'value': 55.0}\n",
      "12 VITOR HENRIQUE DE MORAES E {'date': '06/05/2022', 'text': 'Madruga Bebi-ct', 'value': 5.0}\n",
      "13 VITOR HENRIQUE DE MORAES E {'date': '07/05/2022', 'text': 'Papelle     -ct', 'value': 11.9}\n",
      "14 VITOR HENRIQUE DE MORAES E {'date': '07/05/2022', 'text': 'Kalunga Vila-ct Ha', 'value': 45.69}\n",
      "15 VITOR HENRIQUE DE MORAES E {'date': '07/05/2022', 'text': 'Carrefour Vv-ct', 'value': 36.18}\n",
      "16 VITOR HENRIQUE DE MORAES E {'date': '07/05/2022', 'text': 'Filial Burge-ct Ng Dri', 'value': 20.4}\n",
      "17 VITOR HENRIQUE DE MORAES E {'date': '07/05/2022', 'text': 'Blackjack Ba-ct', 'value': 93.0}\n",
      "18 VITOR HENRIQUE DE MORAES E {'date': '07/05/2022', 'text': 'Cobasi Vila -ct A 01/02', 'value': 87.29}\n",
      "19 VITOR HENRIQUE DE MORAES E {'date': '09/05/2022', 'text': 'Cafe Com Neg-ct S', 'value': 23.98}\n",
      "20 VITOR HENRIQUE DE MORAES E {'date': '10/05/2022', 'text': 'Embutidos Lo-ct Co', 'value': 20.0}\n",
      "21 VITOR HENRIQUE DE MORAES E {'date': '10/05/2022', 'text': 'Cr Comercial-ct', 'value': 14.0}\n",
      "22 VITOR HENRIQUE DE MORAES E {'date': '10/05/2022', 'text': 'Carone Gaivo-ct', 'value': 191.58}\n",
      "23 VITOR HENRIQUE DE MORAES E {'date': '10/05/2022', 'text': '99*99pay', 'value': 34.99}\n",
      "24 VITOR HENRIQUE DE MORAES E {'date': '18/04/2022', 'text': 'Aliexpress        02/03', 'value': 59.76}\n",
      "25 VITOR HENRIQUE DE MORAES E {'date': '30/04/2022', 'text': 'Uber   *uber   *trip', 'value': 8.7}\n",
      "26 VITOR HENRIQUE DE MORAES E {'date': '30/04/2022', 'text': 'Uber   *uber   *trip', 'value': 10.93}\n",
      "27 VITOR HENRIQUE DE MORAES E {'date': '04/05/2022', 'text': 'Mp*opaodaju', 'value': 45.0}\n",
      "28 VITOR HENRIQUE DE MORAES E {'date': '05/05/2022', 'text': 'Uber        *trip', 'value': 16.98}\n",
      "29 VITOR HENRIQUE DE MORAES E {'date': '05/05/2022', 'text': 'Ifood       *ifood', 'value': 37.88}\n",
      "30 VITOR HENRIQUE DE MORAES E {'date': '06/05/2022', 'text': 'Uber   *uber   *trip', 'value': 9.97}\n",
      "31 VITOR HENRIQUE DE MORAES E {'date': '07/05/2022', 'text': 'Uber   *uber   *trip', 'value': 19.2}\n",
      "32 VITOR HENRIQUE DE MORAES E {'date': '07/05/2022', 'text': 'Uber   *uber   *trip', 'value': 14.91}\n",
      "33 VITOR HENRIQUE DE MORAES E {'date': '08/05/2022', 'text': 'Mp*shellbox', 'value': 36.8}\n",
      "34 VITOR HENRIQUE DE MORAES E {'date': '09/05/2022', 'text': 'Mp*shellbox', 'value': 60.0}\n",
      "0 LARA JEVEAUX ALVES {'date': '03/05/2022', 'text': 'Cr Comercial-ct', 'value': 9.12}\n",
      "1 LARA JEVEAUX ALVES {'date': '03/05/2022', 'text': 'Pag*marcosantonio', 'value': 8.0}\n",
      "2 LARA JEVEAUX ALVES {'date': '09/05/2022', 'text': '99*99pay', 'value': 100.0}\n"
     ]
    }
   ],
   "source": [
    "for person, expenses_list in expenses.items():\n",
    "    for idx, expense in enumerate(expenses_list):\n",
    "        print(idx, person, expense)"
   ]
  },
  {
   "cell_type": "markdown",
   "id": "a3c2c68e-3546-4521-8066-098d5c731ec1",
   "metadata": {},
   "source": [
    "## Convert to CSV, for Notion\n",
    "\n",
    "Now that expenses are parsed, the last step involves:\n",
    "- Translating texts for a more semantic representation\n",
    "- Atributing the remaining csv fields, such as categories and transfers\n",
    "- Then joining the expenses to generate the csv file"
   ]
  },
  {
   "cell_type": "code",
   "execution_count": 62,
   "id": "eb471d0e-687f-47cc-9b1a-a9d3f1d864d8",
   "metadata": {},
   "outputs": [],
   "source": [
    "categories = {'transporte': 'Transporte',\n",
    "              'viagens': 'Viagens',\n",
    "              'alimentacao': 'Alimentação',\n",
    "              'lazer': 'Lazer',\n",
    "              'casa': 'Casa',\n",
    "              'saude':'Saúde'\n",
    "             }\n",
    "\n",
    "translate_dict = {'99*99': {'text': '99 Pay', 'category': categories['casa']},\n",
    "                'uber': {'text': 'Uber', 'category': categories['transporte']},\n",
    "                'shellbox': {'text': 'Gasolina', 'category': categories['transporte']},\n",
    "                'esfiha': {'text': 'Esfiha', 'category': categories['alimentacao']},\n",
    "                'bakery': {'text': 'Padaria', 'category': categories['alimentacao']},\n",
    "                'cr comercial': {'text': 'Padaria', 'category': categories['alimentacao']},\n",
    "                'pastel': {'text': 'Pastel', 'category': categories['alimentacao']},\n",
    "                'ifood': {'text': 'Ifood', 'category': categories['alimentacao']},\n",
    "                'carone': {'text': 'Supermercado', 'category': categories['alimentacao']},\n",
    "                'embutidos lo': {'text': 'Queijo Feira', 'category': categories['alimentacao']},\n",
    "                '40 sab': {'text': 'Sorvete', 'category': categories['lazer']},\n",
    "                'clubew': {'text': 'Wine', 'category': categories['lazer']},\n",
    "                'spotify': {'text': 'Spotify', 'category': categories['lazer']},\n",
    "                'farma': {'text': 'Farmácia', 'category': categories['saude']},\n",
    "                 }"
   ]
  },
  {
   "cell_type": "code",
   "execution_count": 63,
   "id": "e22944fd-5081-483d-96c4-6ee72dcd4292",
   "metadata": {},
   "outputs": [],
   "source": [
    "def get_translate_item(item_text):\n",
    "    not_found_item = {'text': item_text, 'category': ''}\n",
    "    dict_item = [value for key, value in translate_dict.items() if key in item_text.lower()]\n",
    "    \n",
    "    return dict_item[0] if len(dict_item) else not_found_item\n",
    "\n",
    "def get_payer():\n",
    "    return 'Vitor'\n",
    "\n",
    "def get_should_transfer(payer, buyer):\n",
    "    return 'Não' if (payer.lower() in buyer.lower()) else 'Sim'"
   ]
  },
  {
   "cell_type": "code",
   "execution_count": 64,
   "id": "eec06814-7431-4061-8cda-92cf1b8aa220",
   "metadata": {},
   "outputs": [],
   "source": [
    "header = ['Mes', 'Pagamento', 'Item', 'Valor', 'Quem pagou', 'Categoria', 'Lara transfere?']\n",
    "data = []\n",
    "\n",
    "for buyer, expenses_list in expenses.items():\n",
    "    for idx, expense in enumerate(expenses_list):\n",
    "        translated_item = get_translate_item(expense['text'])\n",
    "        \n",
    "        month = '05'\n",
    "        pay_date = expense['date']\n",
    "        description = translated_item['text']\n",
    "        value = expense['value']\n",
    "        payer = get_payer()\n",
    "        category = translated_item['category']\n",
    "        should_transfer = get_should_transfer(payer, buyer)\n",
    "        \n",
    "        expense_row = [month, pay_date, description, value, payer, category, should_transfer]\n",
    "        data.append(expense_row)"
   ]
  },
  {
   "cell_type": "code",
   "execution_count": 65,
   "id": "641ca4db-4b11-4aab-9afa-e1cd1a1bdf41",
   "metadata": {},
   "outputs": [],
   "source": [
    "import csv\n",
    "\n",
    "with open('expenses.csv', 'w', encoding='UTF8', newline='') as f:\n",
    "    writer = csv.writer(f)\n",
    "\n",
    "    # write the header\n",
    "    writer.writerow(header)\n",
    "\n",
    "    # write multiple rows\n",
    "    writer.writerows(data)"
   ]
  },
  {
   "cell_type": "code",
   "execution_count": null,
   "id": "5c9f9bc3-6269-4473-934b-37abf7fc1e25",
   "metadata": {},
   "outputs": [],
   "source": []
  }
 ],
 "metadata": {
  "kernelspec": {
   "display_name": "Python 3 (ipykernel)",
   "language": "python",
   "name": "python3"
  },
  "language_info": {
   "codemirror_mode": {
    "name": "ipython",
    "version": 3
   },
   "file_extension": ".py",
   "mimetype": "text/x-python",
   "name": "python",
   "nbconvert_exporter": "python",
   "pygments_lexer": "ipython3",
   "version": "3.9.12"
  }
 },
 "nbformat": 4,
 "nbformat_minor": 5
}
