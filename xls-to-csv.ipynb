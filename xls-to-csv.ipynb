{
 "cells": [
  {
   "cell_type": "code",
   "execution_count": 1,
   "id": "2277ad84-132b-4514-bcaa-4cdf1ff04968",
   "metadata": {},
   "outputs": [],
   "source": [
    "import re\n",
    "import xlrd\n",
    "\n",
    "STATEMENT_FILE = 'Fatura-Excel.xls'\n",
    "\n",
    "book = xlrd.open_workbook(STATEMENT_FILE)\n",
    "\n",
    "print(\"The number of worksheets is {0}\".format(book.nsheets))\n",
    "print(\"Worksheet name(s): {0}\".format(book.sheet_names()))\n",
    "sh = book.sheet_by_index(0)\n",
    "print(\"{0} {1} {2}\".format(sh.name, sh.nrows, sh.ncols))\n",
    "# for rx in range(sh.nrows):\n",
    "#     print(sh.row(rx))"
   ]
  },
  {
   "cell_type": "code",
   "execution_count": 3,
   "id": "a1bdc669-c7d5-4fb6-9635-c83e335e737e",
   "metadata": {},
   "outputs": [],
   "source": [
    "# Defined Cell types\n",
    "XL_CELL_EMPTY = 0\n",
    "XL_CELL_TEXT = 1\n",
    "XL_CELL_NUMBER = 2\n",
    "\n",
    "# Column info location\n",
    "DATE_COLUMN = 0\n",
    "TEXT_COLUMN = 1\n",
    "VALUE_COLUMN = 3\n",
    "\n",
    "# Regex for identifying date dd/mm/yyyy\n",
    "date_regex = re.compile(r'^([0-2][0-9]|(3)[0-1])(\\/)(((0)[0-9])|((1)[0-2]))(\\/)\\d{4}$')"
   ]
  },
  {
   "cell_type": "code",
   "execution_count": 66,
   "id": "c94d6c2c-3499-4a53-9593-6ad8d4c5621c",
   "metadata": {},
   "outputs": [],
   "source": [
    "people = ['VITOR HENRIQUE DE MORAES E', 'LARA JEVEAUX ALVES']\n",
    "\n",
    "expenses = {key: list([]) for key in people}\n",
    "\n",
    "# learning moment:\n",
    "# expenses = dict.fromkeys(people, [])\n",
    "# when supplying a mutable object as default value, a deep copy is made. Therefore, appending values\n",
    "# in the original list will take places in all the values of keys. In this case they were duplicated \n",
    "\n",
    "def formatExpenseDict(date, text, value):\n",
    "    return {'date': date, 'text': text, 'value': value} \n",
    "\n",
    "# Scan all rows and group expenses by person\n",
    "current_person = ''\n",
    "for rx in range(sh.nrows):\n",
    "    first_cell = sh.cell_value(rowx=rx, colx=0)\n",
    "   \n",
    "    if any(person in first_cell for person in people):\n",
    "        current_person = first_cell.rsplit(' -')[0]\n",
    "        continue;\n",
    "    \n",
    "    first_cell_type = sh.cell_type(rowx=rx, colx=DATE_COLUMN)\n",
    "    if (first_cell_type == XL_CELL_TEXT and date_regex.search(first_cell) != None):\n",
    "        # group expenses when row is valid\n",
    "        date_cell = first_cell\n",
    "        text_cell = sh.cell_value(rowx=rx, colx=TEXT_COLUMN)\n",
    "        value_cell = sh.cell_value(rowx=rx, colx=VALUE_COLUMN)\n",
    "        \n",
    "        expense = formatExpenseDict(date_cell, text_cell, value_cell)\n",
    "\n",
    "        expenses[current_person].append(expense)\n",
    "        # print(current_person, expense)"
   ]
  },
  {
   "cell_type": "code",
   "execution_count": 67,
   "id": "f8093ce2-15c7-4f28-af53-43d29fa0c4b1",
   "metadata": {},
   "outputs": [],
   "source": [
    "from datetime import date\n",
    "\n",
    "# REMOVING EXPENSES BEFORE SELECTED DATE\n",
    "\n",
    "IGNORE_EXPENSES_BEFORE_DATE = '16/04/2022'\n",
    "\n",
    "def transform_date(str_date = '31/12/2021'):\n",
    "    day, month, year = str_date.rsplit('/')\n",
    "    return date(int(year), int(month), int(day))\n",
    "\n",
    "last_date = transform_date(IGNORE_EXPENSES_BEFORE_DATE)\n",
    "\n",
    "for person, expensesList in expenses.items():\n",
    "    indexes_to_remove = []\n",
    "    for idx, expense in enumerate(expensesList):\n",
    "        current_date = transform_date(expense['date'])\n",
    "        if (current_date < last_date):\n",
    "            indexes_to_remove.append(idx)\n",
    "    \n",
    "    # the removal operation had to be separated because it wasn't fully functional inside the loop above\n",
    "    # it is reversed in order to not mess up with the indexes\n",
    "    for jdx in reversed(indexes_to_remove):\n",
    "        expenses[person].pop(jdx)"
   ]
  },
  {
   "cell_type": "code",
   "execution_count": 68,
   "id": "e64dd2cd-ece5-42c4-8a40-e76e80f89956",
   "metadata": {},
   "outputs": [],
   "source": [
    "# CLEAR REFUNDS DISGUISED AS EXPENSES\n",
    "for person, expensesList in expenses.items():\n",
    "    for idx, expense in enumerate(expensesList):\n",
    "         if (expense['value'] < 0):\n",
    "            refund = expense\n",
    "            # searches refunded expense retroactively, expeting it to be near and above\n",
    "            for jdx in reversed(range(idx)):\n",
    "                if (abs(expense['value']) == abs(expensesList[jdx]['value'])):\n",
    "                    refundedExpense = expensesList[jdx]\n",
    "                    expenses[person].remove(refund) \n",
    "                    expenses[person].remove(refundedExpense)\n",
    "                    break"
   ]
  },
  {
   "cell_type": "code",
   "execution_count": 70,
   "id": "f696c61a-d6c3-4284-99aa-af746c32194d",
   "metadata": {},
   "outputs": [
    {
     "name": "stdout",
     "output_type": "stream",
     "text": [
      "VITOR HENRIQUE DE MORAES E {'date': '16/04/2022', 'text': 'Dom Esfiha P-ct', 'value': 97.81}\n",
      "VITOR HENRIQUE DE MORAES E {'date': '16/04/2022', 'text': 'Pag*bakeryte-ct', 'value': 25.26}\n",
      "VITOR HENRIQUE DE MORAES E {'date': '17/04/2022', 'text': 'Edmar Lima A-ct Da', 'value': 33.0}\n",
      "VITOR HENRIQUE DE MORAES E {'date': '19/04/2022', 'text': 'Pag*pastel  -ct', 'value': 24.5}\n",
      "VITOR HENRIQUE DE MORAES E {'date': '19/04/2022', 'text': 'Carone Gaivo-ct', 'value': 62.16}\n",
      "VITOR HENRIQUE DE MORAES E {'date': '20/04/2022', 'text': '99*gilmar Ferreira Barr', 'value': 27.48}\n",
      "VITOR HENRIQUE DE MORAES E {'date': '21/04/2022', 'text': 'Churrascaria-ct Lista', 'value': 42.92}\n",
      "VITOR HENRIQUE DE MORAES E {'date': '21/04/2022', 'text': 'Paygo*40 Sab-ct  Gaivo', 'value': 16.8}\n",
      "VITOR HENRIQUE DE MORAES E {'date': '23/04/2022', 'text': 'Nossafarma F-ct Cia Lt', 'value': 29.9}\n",
      "VITOR HENRIQUE DE MORAES E {'date': '24/04/2022', 'text': 'Padaria Puro-ct Go', 'value': 56.19}\n",
      "VITOR HENRIQUE DE MORAES E {'date': '24/04/2022', 'text': 'Kellen Dos S-ct S Bas', 'value': 4.0}\n",
      "VITOR HENRIQUE DE MORAES E {'date': '24/04/2022', 'text': 'Drogaria Cop-ct Rma', 'value': 2.9}\n",
      "VITOR HENRIQUE DE MORAES E {'date': '25/04/2022', 'text': 'Starbucks   -ct', 'value': 17.5}\n",
      "VITOR HENRIQUE DE MORAES E {'date': '25/04/2022', 'text': 'Confeitaria -ct Mbo Lt', 'value': 92.41}\n",
      "VITOR HENRIQUE DE MORAES E {'date': '26/04/2022', 'text': 'Embutidos Lo-ct Co', 'value': 20.0}\n",
      "VITOR HENRIQUE DE MORAES E {'date': '26/04/2022', 'text': 'Carone Gaivo-ct', 'value': 280.15}\n",
      "VITOR HENRIQUE DE MORAES E {'date': '28/04/2022', 'text': 'Dom Esfiha P-ct', 'value': 22.73}\n",
      "VITOR HENRIQUE DE MORAES E {'date': '16/04/2022', 'text': 'Monis.com.br', 'value': 50.0}\n",
      "VITOR HENRIQUE DE MORAES E {'date': '16/04/2022', 'text': 'Monis.com.br', 'value': 50.0}\n",
      "VITOR HENRIQUE DE MORAES E {'date': '17/04/2022', 'text': 'Ifood       *ifood', 'value': 48.99}\n",
      "VITOR HENRIQUE DE MORAES E {'date': '18/04/2022', 'text': 'Mp*buser', 'value': 3.0}\n",
      "VITOR HENRIQUE DE MORAES E {'date': '18/04/2022', 'text': 'Aliexpress        01/03', 'value': 59.76}\n",
      "VITOR HENRIQUE DE MORAES E {'date': '20/04/2022', 'text': 'Uber   *uber   *trip', 'value': 21.92}\n",
      "VITOR HENRIQUE DE MORAES E {'date': '21/04/2022', 'text': 'Ebanx       *spotify', 'value': 24.9}\n",
      "VITOR HENRIQUE DE MORAES E {'date': '23/04/2022', 'text': 'Monis.com.br', 'value': 50.0}\n",
      "VITOR HENRIQUE DE MORAES E {'date': '23/04/2022', 'text': 'Monis.com.br', 'value': 50.0}\n",
      "VITOR HENRIQUE DE MORAES E {'date': '23/04/2022', 'text': 'Rappi*alberto Zouain 01', 'value': 26.3}\n",
      "VITOR HENRIQUE DE MORAES E {'date': '24/04/2022', 'text': 'Uber   *uber   *trip', 'value': 34.99}\n",
      "VITOR HENRIQUE DE MORAES E {'date': '25/04/2022', 'text': 'Uber   *uber   *trip', 'value': 24.93}\n",
      "VITOR HENRIQUE DE MORAES E {'date': '25/04/2022', 'text': 'Uber   *uber   *trip', 'value': 16.97}\n",
      "VITOR HENRIQUE DE MORAES E {'date': '25/04/2022', 'text': 'Uber   *uber   *trip', 'value': 39.92}\n",
      "VITOR HENRIQUE DE MORAES E {'date': '25/04/2022', 'text': 'Uber   *uber   *trip', 'value': 12.94}\n",
      "VITOR HENRIQUE DE MORAES E {'date': '26/04/2022', 'text': 'Uber   *uber   *trip', 'value': 14.92}\n",
      "VITOR HENRIQUE DE MORAES E {'date': '26/04/2022', 'text': 'Mp*shellbox', 'value': 45.0}\n",
      "VITOR HENRIQUE DE MORAES E {'date': '28/04/2022', 'text': 'Clubew 27711767', 'value': 55.41}\n",
      "LARA JEVEAUX ALVES {'date': '20/04/2022', 'text': '99*mayrom Henrique Borg', 'value': 8.38}\n"
     ]
    }
   ],
   "source": [
    "for person, expensesList in expenses.items():\n",
    "    for idx, expense in enumerate(expensesList):\n",
    "        print(person, expense)"
   ]
  },
  {
   "cell_type": "code",
   "execution_count": null,
   "id": "ce0a6a73-d0f5-4bd1-82e2-4ba131ff0601",
   "metadata": {},
   "outputs": [],
   "source": []
  }
 ],
 "metadata": {
  "kernelspec": {
   "display_name": "Python 3 (ipykernel)",
   "language": "python",
   "name": "python3"
  },
  "language_info": {
   "codemirror_mode": {
    "name": "ipython",
    "version": 3
   },
   "file_extension": ".py",
   "mimetype": "text/x-python",
   "name": "python",
   "nbconvert_exporter": "python",
   "pygments_lexer": "ipython3",
   "version": "3.9.12"
  }
 },
 "nbformat": 4,
 "nbformat_minor": 5
}
